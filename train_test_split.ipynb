{
 "cells": [
  {
   "cell_type": "code",
   "execution_count": 1,
   "metadata": {},
   "outputs": [
    {
     "name": "stdout",
     "output_type": "stream",
     "text": [
      "Split 200 images into 140 training images and 60 validation images.\n"
     ]
    }
   ],
   "source": [
    "import os\n",
    "import random\n",
    "import shutil\n",
    "\n",
    "# Define the source directory containing your images\n",
    "source_directory = 'images'  # Replace with your source directory path\n",
    "train_directory = 'train/images'\n",
    "val_directory = 'val/images'\n",
    "\n",
    "# Create the destination directories if they don't exist\n",
    "os.makedirs(train_directory, exist_ok=True)\n",
    "os.makedirs(val_directory, exist_ok=True)\n",
    "\n",
    "# List all image filenames in the source directory\n",
    "image_filenames = os.listdir(source_directory)\n",
    "\n",
    "# Calculate the number of images for the training and validation sets\n",
    "total_images = len(image_filenames)\n",
    "num_train_images = int(total_images * 0.7)\n",
    "num_val_images = total_images - num_train_images\n",
    "\n",
    "# Shuffle the list of image filenames\n",
    "random.shuffle(image_filenames)\n",
    "\n",
    "# Copy the images to the training and validation directories\n",
    "for i, image_filename in enumerate(image_filenames):\n",
    "    source_path = os.path.join(source_directory, image_filename)\n",
    "    if i < num_train_images:\n",
    "        destination_directory = train_directory\n",
    "    else:\n",
    "        destination_directory = val_directory\n",
    "    \n",
    "    destination_path = os.path.join(destination_directory, image_filename)\n",
    "    shutil.copy(source_path, destination_path)\n",
    "\n",
    "print(f\"Split {total_images} images into {num_train_images} training images and {num_val_images} validation images.\")\n"
   ]
  },
  {
   "cell_type": "code",
   "execution_count": 8,
   "metadata": {},
   "outputs": [],
   "source": [
    "train_labels = 'train/labels'\n",
    "val_labels = 'val/labels'\n",
    "\n",
    "# Create the destination directories if they don't exist\n",
    "os.makedirs(train_labels, exist_ok=True)\n",
    "os.makedirs(val_labels, exist_ok=True)\n",
    "\n",
    "for idx,name in enumerate(os.listdir('labels')):\n",
    "    label_name =name.split(\".\")[0].split(\"_\")[1]\n",
    "    for idx,jname in enumerate(os.listdir('val/images')):\n",
    "        images_name = jname.split(\".\")[0].split(\"_\")[1]\n",
    "        if label_name == images_name:  \n",
    "            source_path_for_images = os.path.join(os.getcwd(),'labels', name)\n",
    "            shutil.copy(source_path_for_images, val_labels)    "
   ]
  },
  {
   "cell_type": "code",
   "execution_count": null,
   "metadata": {},
   "outputs": [],
   "source": []
  }
 ],
 "metadata": {
  "kernelspec": {
   "display_name": "bob_setup2",
   "language": "python",
   "name": "python3"
  },
  "language_info": {
   "codemirror_mode": {
    "name": "ipython",
    "version": 3
   },
   "file_extension": ".py",
   "mimetype": "text/x-python",
   "name": "python",
   "nbconvert_exporter": "python",
   "pygments_lexer": "ipython3",
   "version": "3.10.6"
  },
  "orig_nbformat": 4
 },
 "nbformat": 4,
 "nbformat_minor": 2
}
